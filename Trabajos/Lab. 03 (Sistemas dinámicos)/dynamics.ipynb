{
 "cells": [
  {
   "cell_type": "markdown",
   "metadata": {},
   "source": [
    "# Sistemas dinámicos"
   ]
  },
  {
   "cell_type": "markdown",
   "metadata": {},
   "source": [
    "Los sistemas dinámicos son modelos de suma importancia en las ciencias. En general, un modelo dinámico intenta resolver la trayectoria temporal de alguna cantidad física como función de algún generador dinámico; este último usualmente representado de forma funcional.\n",
    "\n",
    "En algunos casos, podemos modelar la dinámica de un estado genérico $y$ mediante la ecuación dinámica\n",
    "\\begin{equation}\n",
    "\\frac{dy}{dt} = f(t, y),\n",
    "\\end{equation}\n",
    "sujeta a la condición inicial\n",
    "\\begin{equation}\n",
    "y(t_0) = y_0.\n",
    "\\end{equation}\n",
    "\n",
    "En esta notación, $y$ corresponde a un estado del sistema. Este estado puede ser representado mediante diferentes objetos matemáticos: desde cantidades escalares hasta matrices que representan cierto operador lineal. En la ecuación anterior, $t$ corresponde a la variable temporal.\n",
    "\n",
    "El problema dinámico descrito anteriormente es usualmente conocido en el campo de las matemáticas aplicadas como **problema de condición inicial**. "
   ]
  },
  {
   "cell_type": "markdown",
   "metadata": {},
   "source": [
    "#### Laboratorio\n",
    "\n",
    "Este tipo de problemas, el cual corresponde a algún modelo dinámico (para nombrar algunos ejemplos: sistemas electromagnéticos, dinámica de fluidos, sistemas caóticos, sistemas cuánticos, entre otros) será tema del curso más adelante. En este laboratorio, nuestro objetivo es aplicar conceptos de programación en `Python` utilizando `Jupyter Notebook`s para resolver el problema dinámico."
   ]
  },
  {
   "cell_type": "markdown",
   "metadata": {},
   "source": [
    "### Breve introducción a `Numpy`\n",
    "\n",
    "En cálculos referentes a ciencia aplicada, una de las bibliotecas más importantes para diseñar aplicaciones científicas en `Python` es `Numpy`. `Numpy` está estructurado como un módulo, que debe ser importado para su uso.\n",
    "\n",
    "Esto se realiza mediante la cláusula:"
   ]
  },
  {
   "cell_type": "code",
   "execution_count": 1,
   "metadata": {},
   "outputs": [],
   "source": [
    "import numpy as np"
   ]
  },
  {
   "cell_type": "markdown",
   "metadata": {},
   "source": [
    "La cláusula `import` importa el módulo a nuestro ambiente de programación, mientras que el *keyword* `as` implica que usaremos un acrónimo para invocar la funcionalidad del módulo; con el simple objetivo de no escribir la palabra `numpy` antes de cada función que invoquemos.\n",
    "\n",
    "El objeto más importante del módulo `Numpy` es el `numpy.ndarray`. Este objeto es un contenedor (estructura de datos) que representa objetos como vectores, matrices o tensores. \n",
    "\n",
    "El constructor (estudiaremos contructores más adelante), se invoca pasando como argumento un `Python` `list`. Veamos por ejemplo como construir una matriz identidad 2x2 con esta estructura:"
   ]
  },
  {
   "cell_type": "code",
   "execution_count": 2,
   "metadata": {},
   "outputs": [
    {
     "name": "stdout",
     "output_type": "stream",
     "text": [
      "[[1 0]\n",
      " [0 1]]\n"
     ]
    }
   ],
   "source": [
    "identityMatrix = np.array([[1,0], [0,1]])\n",
    "\n",
    "print(identityMatrix)"
   ]
  },
  {
   "cell_type": "markdown",
   "metadata": {},
   "source": [
    "Note que pasamos una lista de listas para crear un objeto de mayor dimensión; i.e, una matrix. Los objetos creados con `np.array` contienen varias propiedades, tales como su tamaño y dichos atributos se accesan mediante el operador `.`:"
   ]
  },
  {
   "cell_type": "code",
   "execution_count": 3,
   "metadata": {},
   "outputs": [
    {
     "data": {
      "text/plain": [
       "(2, 2)"
      ]
     },
     "execution_count": 3,
     "metadata": {},
     "output_type": "execute_result"
    }
   ],
   "source": [
    "identityMatrix.shape"
   ]
  },
  {
   "cell_type": "markdown",
   "metadata": {},
   "source": [
    "Los objetos se pueden operar matemáticamente de forma sencilla:"
   ]
  },
  {
   "cell_type": "code",
   "execution_count": 4,
   "metadata": {},
   "outputs": [
    {
     "data": {
      "text/plain": [
       "array([[2, 0],\n",
       "       [0, 2]])"
      ]
     },
     "execution_count": 4,
     "metadata": {},
     "output_type": "execute_result"
    }
   ],
   "source": [
    "identityMatrix + identityMatrix"
   ]
  },
  {
   "cell_type": "code",
   "execution_count": 5,
   "metadata": {},
   "outputs": [
    {
     "data": {
      "text/plain": [
       "array([[1, 0],\n",
       "       [0, 1]])"
      ]
     },
     "execution_count": 5,
     "metadata": {},
     "output_type": "execute_result"
    }
   ],
   "source": [
    "aEx = np.array([[0,1], [1,0]])\n",
    "\n",
    "np.dot(aEx, aEx) # El producto matricial A*B"
   ]
  },
  {
   "cell_type": "markdown",
   "metadata": {},
   "source": [
    "La documentación de `Numpy` se puede accesar mediante su página de referencia:\n",
    "[NumPy](https://numpy.org)"
   ]
  },
  {
   "cell_type": "markdown",
   "metadata": {},
   "source": [
    "## Soluciones a sistemas dinámicos\n",
    "\n",
    "Los sistemas dinámicos y las soluciones numéricas a ecuaciones diferenciales son un tema importante de este curso que será estudiado más adelante. De momento, queremos utilizar este problema para familiarizarnos con el ambiente de programación científica."
   ]
  },
  {
   "cell_type": "markdown",
   "metadata": {},
   "source": [
    "Lo primero que vamos a hacer es describir el método numérico que vamos a utilizar para implementar la solución.\n",
    "\n",
    "Vamos a utilizar el método Runge-Kutta de orden 4 para resolver el problema."
   ]
  },
  {
   "cell_type": "markdown",
   "metadata": {},
   "source": [
    "## Método Runge-Kutta de orden 4 (RK4)\n",
    "\n",
    "Escriba las ecuaciones del método numérico utilizando LateX embedido en una celda de Markdown:"
   ]
  },
  {
   "cell_type": "markdown",
   "metadata": {},
   "source": [
    "El método RK4 se utiliza para la aproximación de soluciones de ecuaciones diferenciales ordinarias, concretamente, del problema de valor inicial. \n",
    "\n",
    "Habiendo definido el problema: $\\frac{dy}{dt} = f(t, y)$ sujeto a $y(t_0) = y_0$, se procede a ir perturbando el estado anterior $y_{n}(t_{n})$ de forma iterativa, de la siguiente manera:\n",
    "\n",
    "$y_{n+1}=y_{n}+\\frac{1}{6}(k_{1}+2k_{2}+2k_{3}+k_{4})$\n",
    "\n",
    "donde:\n",
    "\n",
    "\\begin{equation}\n",
    "\\left\\{ \\begin{array}{lr}\n",
    "k_{1} := h \\cdot f(t_{n},y_{n}) \\\\\n",
    "k_{2} := h \\cdot f \\left( t_{n} + \\frac{h}{2} , y_{n} + \\frac{k_{1}}{2} \\right) \\\\\n",
    "k_{3} := h \\cdot f \\left( t_{n} + \\frac{h}{2} , y_{n} + \\frac{k_{2}}{2} \\right) \\\\\n",
    "k_{4} := h \\cdot f \\left( t_{n} + h , y_{n} + k_{3} \\right)\n",
    "\\end{array} \\right.\n",
    "\\end{equation}\n"
   ]
  },
  {
   "cell_type": "markdown",
   "metadata": {},
   "source": [
    "## Ejemplo\n",
    "\n",
    "Armados con esta metodología vamos a estudiar la solución de un problema dinámico genérico.\n",
    "\n",
    "Asumamos que queremos estudiar la evolución temporal de un estado $\\mathbf{y}(t)$. Este estado será representado mediante una matriz 2x2 que corresponde a algún operador lineal. La función que genra la dinámica del problema es \n",
    "$$\n",
    "f(t, \\mathbf{y}) = -{\\rm{i}} [\\mathbf{O}, \\mathbf{y}(t)],\n",
    "$$\n",
    "donde $\\mathbf{O}$ es otro operador lineal, ${\\rm{i}}$ es la constante compleja y $[A, B] = AB - BA$ es un operación de conmutación. Note que **la función $f(t, \\mathbf{y})$ no depende explícitamente de la variable temporal**.\n",
    "\n",
    "En Python, la constante compleja se denota mediante:"
   ]
  },
  {
   "cell_type": "code",
   "execution_count": 6,
   "metadata": {},
   "outputs": [],
   "source": [
    "iConst = 1.0j"
   ]
  },
  {
   "cell_type": "markdown",
   "metadata": {},
   "source": [
    "La dinámica del problema depende intrínsicamente del operador $\\mathbf{O}$. Escojamos el siguiente operador:"
   ]
  },
  {
   "cell_type": "code",
   "execution_count": 7,
   "metadata": {},
   "outputs": [],
   "source": [
    "oOper = np.array([[0, 1], [1, 0]])"
   ]
  },
  {
   "cell_type": "markdown",
   "metadata": {},
   "source": [
    "Dicho operador puede tener distintos significados físicos dependiendo del problema dinámico en cuestión. Puede representar un mapa algebraico, el generador dinámico de un sistema caótico, un Hamiltoniano, etc. "
   ]
  },
  {
   "cell_type": "markdown",
   "metadata": {},
   "source": [
    "Lo siguiente es difinir un estado inicial. De igual forma, dicho estado puede representar cantidades físicas de un sistema. Consideremos:"
   ]
  },
  {
   "cell_type": "code",
   "execution_count": 92,
   "metadata": {},
   "outputs": [],
   "source": [
    "yInit = np.array([[1, 0], [0, 0]])"
   ]
  },
  {
   "cell_type": "markdown",
   "metadata": {},
   "source": [
    "Note que el operador $\\mathbf{O}$ no es diagonal, por lo cual esperamos que conforme avanza el tiempo, dicho operador modifica el estado $\\mathbf{y}(t)$.\n",
    "\n",
    "Implementemos la función $f(t, \\mathbf{y})$ en Python. Para esto puede utilizar la función [np.dot](https://numpy.org/doc/stable/reference/generated/numpy.dot.html)"
   ]
  },
  {
   "cell_type": "code",
   "execution_count": 93,
   "metadata": {},
   "outputs": [],
   "source": [
    "# Su código aquí\n",
    "# El keyword pass está aquí para que la celda pueda ser interpretada sin necesidad de\n",
    "# tener la función implementada. Su tarea es borrar el pass e implementar la función\n",
    "def dyn_generator(oper, state):\n",
    "    return -1.0j*(np.dot(oper,state)-np.dot(state,oper))"
   ]
  },
  {
   "cell_type": "markdown",
   "metadata": {},
   "source": [
    "Ahora tenemos que implementar la función que realiza la operación dinámica en `Python`. Escriba una función que implementa el método RK4:"
   ]
  },
  {
   "cell_type": "code",
   "execution_count": 94,
   "metadata": {},
   "outputs": [
    {
     "name": "stdout",
     "output_type": "stream",
     "text": [
      "[[0.99003333+0.j         0.        +0.09933333j]\n",
      " [0.        -0.09933333j 0.00996667+0.j        ]]\n"
     ]
    }
   ],
   "source": [
    "def rk4(func, oper, state, h):\n",
    "    k1=h*func(oper,state)\n",
    "    k2=h*func(oper,state+k1/2)\n",
    "    k3=h*func(oper,state+k2/2)\n",
    "    k4=h*func(oper,state+k3)\n",
    "    return state+(1/6)*(k1+2*k2+2*k3+k4)\n",
    "\n",
    "print(rk4(dyn_generator,oOper,yInit,0.1))"
   ]
  },
  {
   "cell_type": "markdown",
   "metadata": {},
   "source": [
    "Con estas funciones a nuestra disposición, podemos evaluar la dinámica temporal en una grilla temporal unidimensional. Utilice la función [np.linspace](https://numpy.org/doc/stable/reference/generated/numpy.linspace.html) para crear un arreglo de valores temporales:"
   ]
  },
  {
   "cell_type": "code",
   "execution_count": 95,
   "metadata": {},
   "outputs": [
    {
     "name": "stdout",
     "output_type": "stream",
     "text": [
      "[ 0.          0.20408163  0.40816327  0.6122449   0.81632653  1.02040816\n",
      "  1.2244898   1.42857143  1.63265306  1.83673469  2.04081633  2.24489796\n",
      "  2.44897959  2.65306122  2.85714286  3.06122449  3.26530612  3.46938776\n",
      "  3.67346939  3.87755102  4.08163265  4.28571429  4.48979592  4.69387755\n",
      "  4.89795918  5.10204082  5.30612245  5.51020408  5.71428571  5.91836735\n",
      "  6.12244898  6.32653061  6.53061224  6.73469388  6.93877551  7.14285714\n",
      "  7.34693878  7.55102041  7.75510204  7.95918367  8.16326531  8.36734694\n",
      "  8.57142857  8.7755102   8.97959184  9.18367347  9.3877551   9.59183673\n",
      "  9.79591837 10.        ]\n"
     ]
    }
   ],
   "source": [
    "# Su código aquí\n",
    "# Utilice el nombre \"times\" para la variable que contiene el arreglo de valores temporales\n",
    "# Utilice un valor final de t = 10.0\n",
    "times = np.linspace(0.0,10.0, num=50)\n",
    "\n",
    "print(times)"
   ]
  },
  {
   "cell_type": "markdown",
   "metadata": {},
   "source": [
    "Note que dicha función genera un arreglo con valores temporales homogéneos. Cual sería el valor de $h$?"
   ]
  },
  {
   "cell_type": "code",
   "execution_count": 96,
   "metadata": {},
   "outputs": [],
   "source": [
    "# Su código aquí\n",
    "# Utilice el nombre \"h\" para la variable que contiene el paso temporal\n",
    "h=times[1]-times[0]"
   ]
  },
  {
   "cell_type": "markdown",
   "metadata": {},
   "source": [
    "Ahora creamos una rutina para realizar la evolución temporal. Primero, necesitamos una copia del operador que representa el estado inicial. Esto se puede hacer con el método `copy()` del módulo `numpy`:"
   ]
  },
  {
   "cell_type": "code",
   "execution_count": 97,
   "metadata": {},
   "outputs": [],
   "source": [
    "# Haga un deep copy de yInit y llamele yCopy\n",
    "# Los deep copies son muy importantes, analizaremos esto más adelante en el curso\n",
    "yCopy = yInit.copy()"
   ]
  },
  {
   "cell_type": "markdown",
   "metadata": {},
   "source": [
    "Y, finalmente, llamamos de manera iterativa la rutina `rk4()`, calculando el operador del estado del sistema $\\mathbf{y}(t)$ a través del tiempo. A travéz del tiempo, vamos a guardar la entrada $(0, 0)$ y $(1, 1)$ de la matriz $\\mathbf{y}(t)$. \n",
    "\n",
    "Para esto, vamos a inicializar dos arreglos que van a contener los valores con valores iniciales cero. Utilizamos el mismo tamaño del arreglo que contiene la variable independiente temporal: "
   ]
  },
  {
   "cell_type": "code",
   "execution_count": 98,
   "metadata": {},
   "outputs": [],
   "source": [
    "stateQuant00 = np.zeros(times.size)\n",
    "stateQuant11 = np.zeros(times.size)"
   ]
  },
  {
   "cell_type": "markdown",
   "metadata": {},
   "source": [
    "Rutina principal: esta rutina realiza la evolución temporal."
   ]
  },
  {
   "cell_type": "code",
   "execution_count": 99,
   "metadata": {},
   "outputs": [],
   "source": [
    "for tt in range(times.size):\n",
    "    # Guarde el valor de las entradas (0,0) y (1,1) en los arreglos que definimos\n",
    "    # Obtenga estos valores de las entradas de yInit\n",
    "    # Código aquí ->\n",
    "    stateQuant00[tt]=yInit[0,0].real\n",
    "    stateQuant11[tt]=yInit[1,1].real\n",
    "    \n",
    "    # Invoque rk4 operando sobre yInit\n",
    "    # y devuelva el resultado a un nuevo yN\n",
    "    # Código aquí ->\n",
    "    yN=rk4(dyn_generator,oOper,yInit,h)\n",
    "    \n",
    "    # Ahora asignamos yN a yInit\n",
    "    # De esta manera, en la siguiente iteración, el operador de esta iteración se convierte en el inicial\n",
    "    # de la siguiente iteración\n",
    "    yInit = yN"
   ]
  },
  {
   "cell_type": "markdown",
   "metadata": {},
   "source": [
    "Hagamos un gráfico de los resultados usando `matplotlib`:"
   ]
  },
  {
   "cell_type": "code",
   "execution_count": 100,
   "metadata": {},
   "outputs": [
    {
     "data": {
      "image/png": "[encoded data removed]",
      "text/plain": [
       "<Figure size 200x200 with 1 Axes>"
      ]
     },
     "metadata": {},
     "output_type": "display_data"
    }
   ],
   "source": [
    "import matplotlib.pyplot as plt\n",
    "\n",
    "# Código aquí ->\n",
    "plt.style.use('_mpl-gallery')\n",
    "\n",
    "x = times\n",
    "y = stateQuant00\n",
    "x2 = times\n",
    "y2 = stateQuant11\n",
    "\n",
    "fig, ax = plt.subplots()\n",
    "\n",
    "ax.plot(x, y, 'g.-',linewidth=1.5)\n",
    "ax.plot(x2, y2 , '.-', linewidth=1.5)\n",
    "\n",
    "plt.show()\n",
    "# Juegue con el valor de h para probar que utilizando valores grandes de h la dinámica se vuelve inestable"
   ]
  },
  {
   "cell_type": "code",
   "execution_count": null,
   "metadata": {},
   "outputs": [],
   "source": []
  }
 ],
 "metadata": {
  "anaconda-cloud": {},
  "kernelspec": {
   "display_name": "Python 3 (ipykernel)",
   "language": "python",
   "name": "python3"
  },
  "language_info": {
   "codemirror_mode": {
    "name": "ipython",
    "version": 3
   },
   "file_extension": ".py",
   "mimetype": "text/x-python",
   "name": "python",
   "nbconvert_exporter": "python",
   "pygments_lexer": "ipython3",
   "version": "3.12.3"
  }
 },
 "nbformat": 4,
 "nbformat_minor": 4
}
