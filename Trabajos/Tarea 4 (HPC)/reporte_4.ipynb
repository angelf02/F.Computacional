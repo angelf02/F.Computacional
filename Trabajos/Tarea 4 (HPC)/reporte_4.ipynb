{
 "cells": [
  {
   "cell_type": "markdown",
   "metadata": {},
   "source": [
    "<h1 style=\"text-align:center;\">Tarea 4: Introducción a la computación de alto rendimiento</h1>\n",
    "<h2 style=\"text-align:center;\">Ángel Fabricio Aguirre Bermúdez - C10152</h2>"
   ]
  },
  {
   "cell_type": "markdown",
   "metadata": {},
   "source": [
    "## Parte I"
   ]
  },
  {
   "cell_type": "code",
   "execution_count": null,
   "metadata": {},
   "outputs": [],
   "source": [
    "#include <iostream>\n",
    "#include <complex>\n",
    "#include <vector>\n",
    "#include <omp.h>\n",
    "#include <sys/time.h>"
   ]
  },
  {
   "cell_type": "markdown",
   "metadata": {},
   "source": [
    "Se incluyen bibliotecas necesarias para:\n",
    "* Entrada y salida estándar (`iostream`).\n",
    "* Manejo de números complejos (`complex`).\n",
    "* Estructuras dinámicas como vectores (`vector`).\n",
    "* Paralelización con OpenMP (`omp.h`).\n",
    "* Medición del tiempo de ejecución (`sys/time.h`)."
   ]
  },
  {
   "cell_type": "code",
   "execution_count": null,
   "metadata": {},
   "outputs": [],
   "source": [
    "double seconds(){\n",
    "  struct timeval tmp;\n",
    "  double sec;\n",
    "  gettimeofday( &tmp, (struct timezone *)0 );\n",
    "  sec = tmp.tv_sec + ((double)tmp.tv_usec)/1000000.0;\n",
    "  \n",
    "  return sec;\n",
    "}"
   ]
  },
  {
   "cell_type": "markdown",
   "metadata": {},
   "source": [
    "Esta función se utiliza para medir el tiempo de ejecución en segundos entre dos puntos del código."
   ]
  },
  {
   "cell_type": "code",
   "execution_count": null,
   "metadata": {},
   "outputs": [],
   "source": [
    "int mandelbrot(const std::complex<double> &c, const int &maxits){\n",
    "  std::complex<double> z = 0;\n",
    "  int n = 0;\n",
    "  while(abs(z) <= 2 && n < maxits){\n",
    "    z = z * z + c;\n",
    "    ++n;\n",
    "  }\n",
    "    \n",
    "  return n;\n",
    "}"
   ]
  },
  {
   "cell_type": "markdown",
   "metadata": {},
   "source": [
    "Esta función determina si un número complejo $c$ pertenece al Conjunto de Mandelbrot. Itera la fórmula:\n",
    "\\begin{equation*}\n",
    "z_{n+1} = z_n^2 +c\n",
    "\\end{equation*}\n",
    "Hasta alcanzar una de dos condiciones:\n",
    "* $|z|>2$ (indica que $c$ no pertenece al conjunto).\n",
    "* Número máximo de iteraciones (`maxits`).\n",
    "\n",
    "Retorna el número de iteraciones completadas."
   ]
  },
  {
   "cell_type": "code",
   "execution_count": null,
   "metadata": {},
   "outputs": [],
   "source": [
    "void print_mat(const std::vector<char> &mat, int &rows, int &cols){\n",
    "  for(int i = 0; i < rows; ++i){\n",
    "    for(int j = 0; j < cols; ++j){\n",
    "      std::cout << mat[(i * cols) + j];\n",
    "    }\n",
    "    std::cout << std::endl;\n",
    "  }\n",
    "}"
   ]
  },
  {
   "cell_type": "markdown",
   "metadata": {},
   "source": [
    "Esta función se utiliza para imprimir una matriz almacenada en un vector unidimensional (como si fuera bidimensional). Es usada para representar gráficamente el Conjunto de Mandelbrot en formato ASCII.\n",
    "\n",
    "Trabajar con un vector permite que cada hilo itere sobre su sección y separar el cálculo de la impresión, para que los hilos no interfieran entre sí."
   ]
  },
  {
   "cell_type": "code",
   "execution_count": null,
   "metadata": {},
   "outputs": [],
   "source": [
    "int main(){\n",
    "    int width = 3840; // Resolución horizontal\n",
    "    int height = 2160; // Resolución vertical\n",
    "    int max_iter = 1000; // Máximo de iteraciones por punto\n",
    "    double minX = -2.0, maxX = 1.0; // Límites horizontales del plano complejo\n",
    "    double minY = -1.0, maxY = 1.0; // Límites verticales del plano complejo\n",
    "    std::vector<char> resultado(width*height, '.'); // Matriz inicializada con '.'\n",
    "    int num_procs; // Número de hilos paralelos"
   ]
  },
  {
   "cell_type": "markdown",
   "metadata": {},
   "source": [
    "Ya en el `main`, se configuran los parámetros de la visualización:\n",
    "* Resolución de la salida (`width`, `height`).\n",
    "* Iteraciones máximas para determinar la pertenencia al conjunto.\n",
    "* Rango del plano complejo.\n",
    "* Inicializa un vector (`resultado`) en el que se almacenará el gráfico ASCII.\n"
   ]
  },
  {
   "cell_type": "markdown",
   "metadata": {},
   "source": [
    "### Subdivisión de las filas del diagrama"
   ]
  },
  {
   "cell_type": "code",
   "execution_count": null,
   "metadata": {},
   "outputs": [],
   "source": [
    "    double time_1 = seconds();\n",
    "    //Paralelización del algoritmo con base en una subdivision de las filas:\n",
    "    #pragma omp parallel \n",
    "    {\n",
    "      num_procs = omp_get_num_threads();\n",
    "      #pragma omp for\n",
    "      for(int y = 0; y < height; ++y){\n",
    "        for(int x = 0; x < width; ++x){\n",
    "          // Mapeo de pixeles a número complejo\n",
    "          std::complex<double> c( minX + (maxX - minX) * x / width,\n",
    "                                  minY + (maxY - minY) * y / height );\n",
    "            \n",
    "          // Cálculo del número de iteraciones\n",
    "          int n = mandelbrot(c, max_iter);\n",
    "  \n",
    "          // Se guarda un caracter dependiendo del número de iteraciones\n",
    "          if(n == max_iter){\n",
    "              resultado[(y * width) + x] = '#'; // Dentro del conjunto de Mandelbrot\n",
    "          } \n",
    "        }\n",
    "      }\n",
    "    }\n",
    "    double time_2 = seconds();"
   ]
  },
  {
   "cell_type": "markdown",
   "metadata": {},
   "source": [
    "Acá, se itera por cada píxel de la matriz, mapeándolo a un número complejo `c` según las coordenadas en el plano.\n",
    "\n",
    "Se calcula si `c` pertenece al Conjunto de Mandelbrot usando la función `mandelbrot`.\n",
    "\n",
    "Además, se usa OpenMP para paralelizar el cálculo, dividiendo las filas (`y`) entre varios hilos.\n",
    "\n",
    "Los puntos pertenecientes al conjunto son marcados en `resultado`con `'#'`.\n",
    "\n",
    "Durante el proceso se mide el tiempo de ejecución total para poder graficar la escalabilidad."
   ]
  },
  {
   "cell_type": "code",
   "execution_count": null,
   "metadata": {},
   "outputs": [],
   "source": [
    "    // print_mat(resultado, height, width);"
   ]
  },
  {
   "cell_type": "markdown",
   "metadata": {},
   "source": [
    "Se imprime el resultado en la terminal. Está comentado para poder calcular la escalabilidad, pero con una resolución de 155x50 se comprobó que el resultado es el correcto, el mismo que el del código en serie proporcionado:\n",
    "<div style=\"text-align: center;\">\n",
    "  <img src=\"Terminal_mandelbrot.png\" style=\"width: 70%; margin: auto;\">\n",
    "</div>"
   ]
  },
  {
   "cell_type": "code",
   "execution_count": null,
   "metadata": {},
   "outputs": [],
   "source": [
    "    std::cout << \"# Num Threads: \" << num_procs << std::endl;\n",
    "    std::cout << \"# Time: \" << time_2 - time_1 << std::endl;\n",
    "    return 0;\n",
    "}"
   ]
  },
  {
   "cell_type": "markdown",
   "metadata": {},
   "source": [
    "Finalmente se imprime estadísticas del cálculo:\n",
    "* Número de hilos paralelos usados.\n",
    "* Tiempo total de ejecución."
   ]
  },
  {
   "cell_type": "markdown",
   "metadata": {},
   "source": [
    "La siguiente figura corresponde al gráfico de escalabilidad utilizando hasta 8 hilos para la subdivisión de filas:"
   ]
  },
  {
   "cell_type": "markdown",
   "metadata": {},
   "source": [
    "<div style=\"text-align: center;\">\n",
    "  <img src=\"Tiempo_filas.png\" style=\"width: 80%; margin: auto;\">\n",
    "</div>\n"
   ]
  },
  {
   "cell_type": "markdown",
   "metadata": {},
   "source": [
    "### Subdivisión de las columnas del diagrama"
   ]
  },
  {
   "cell_type": "code",
   "execution_count": null,
   "metadata": {},
   "outputs": [],
   "source": [
    "    double time_1 = seconds();\n",
    "    for(int y = 0; y < height; ++y){\n",
    "      // Paralelización del algoritmo con base en una subdivision de las columnas:\n",
    "      #pragma omp parallel\n",
    "      {\n",
    "        num_procs = omp_get_num_threads();\n",
    "        #pragma omp for \n",
    "        for(int x = 0; x < width; ++x){\n",
    "            // Mapeo de pixeles a número complejo\n",
    "            std::complex<double> c( minX + (maxX - minX) * x / width,\n",
    "                                    minY + (maxY - minY) * y / height );\n",
    "            \n",
    "            // Cálculo del número de iteraciones\n",
    "            int n = mandelbrot(c, max_iter);\n",
    "  \n",
    "            // Se guarda un caracter dependiendo del número de iteraciones\n",
    "            if(n == max_iter){\n",
    "                resultado[(y * width) + x] = '#'; // Dentro del conjunto de Mandelbrot\n",
    "            } \n",
    "        }\n",
    "      }\n",
    "    }\n",
    "    double time_2 = seconds();"
   ]
  },
  {
   "cell_type": "markdown",
   "metadata": {},
   "source": [
    "Acá, el código es el mismo, pero  al usar OpenMP y paralelizar el cálculo, se divide las columnas (`x`), en vez de las filas."
   ]
  },
  {
   "cell_type": "code",
   "execution_count": null,
   "metadata": {},
   "outputs": [],
   "source": [
    "    // print_mat(resultado, height, width);\n",
    "\n",
    "    std::cout << \"# Num Threads: \" << num_procs << std::endl;\n",
    "    std::cout << \"# Time: \" << time_2 - time_1 << std::endl;\n",
    "    return 0;\n",
    "}"
   ]
  },
  {
   "cell_type": "markdown",
   "metadata": {},
   "source": [
    "Análogamente, se imprime el resultado en la terminal (de igual manera es el correcto para la resolución menor, mas no se mostrará para evitar redundancia), así como el número de hilos paralelos usados y el tiempo total de ejecución."
   ]
  },
  {
   "cell_type": "markdown",
   "metadata": {},
   "source": [
    "La siguiente figura corresponde al gráfico de escalabilidad utilizando hasta 8 hilos para la subdivisión de columnas:"
   ]
  },
  {
   "cell_type": "markdown",
   "metadata": {},
   "source": [
    "<div style=\"text-align: center;\">\n",
    "  <img src=\"Tiempo_cols (1).png\" style=\"width: 80%; margin: auto;\">\n",
    "</div>"
   ]
  },
  {
   "cell_type": "markdown",
   "metadata": {},
   "source": [
    "A modo  de análisis de ambos gráficos: estos presentan una disminución inicial significativa, al aumentar el número de hilos de 1 a 3, el tiempo de ejecución se reduce drásticamente. Esto indica un aprovechamiento inicial eficiente del paralelismo. \n",
    "\n",
    "A partir de 3 hilos, la mejora en el tiempo de ejecución se desacelera y muestra una pendiente menos pronunciada.\n",
    "\n",
    "Ya entre 6 y 8 hilos, la mejora adicional es menor, presentando  una especie de saturación. Sugiriendo que el sistema está siendo dominado por la parte serial, restándole así importancia a la cantidad de unidades de procesamiento. "
   ]
  },
  {
   "cell_type": "markdown",
   "metadata": {},
   "source": [
    "## Parte II"
   ]
  },
  {
   "cell_type": "code",
   "execution_count": null,
   "metadata": {},
   "outputs": [],
   "source": [
    "#include <iostream>\n",
    "#include <vector>\n",
    "#include <mpi.h>"
   ]
  },
  {
   "cell_type": "markdown",
   "metadata": {},
   "source": [
    "Se incluyen las bibliotecas estándar `iostream` y `vector` para la gestión de entrada/salida y vectores dinámicos, respectivamente. Así como `mpi.h` para habilitar las funciones de la interfaz de paso de mensajes MPI, que se usa para la paralelización."
   ]
  },
  {
   "cell_type": "code",
   "execution_count": null,
   "metadata": {},
   "outputs": [],
   "source": [
    "int main(int argc, char *argv[]) {\n",
    "    if (argc != 3) {\n",
    "        std::cerr << \"Uso: \" << argv[0] << \" --n [vector_size]\" << std::endl;\n",
    "        return 1;\n",
    "    }\n",
    "    int n = atoi(argv[2]);\n",
    "    if (n <= 0) {\n",
    "        std::cerr << \"Error: el tamaño del vector debe ser un número positivo.\" << std::endl;\n",
    "        return 1;\n",
    "    }"
   ]
  },
  {
   "cell_type": "markdown",
   "metadata": {},
   "source": [
    "En el `main`, el programa recibe el tamaño del vector `n` como argumento de la línea de comandos, y valida que `n` sea un número positivo (de lo contrario muestra un mensaje de error y termina)."
   ]
  },
  {
   "cell_type": "code",
   "execution_count": null,
   "metadata": {},
   "outputs": [],
   "source": [
    "    MPI_Init(&argc, &argv);\n",
    "    int size, rank;\n",
    "    MPI_Comm_size(MPI_COMM_WORLD, &size);\n",
    "    MPI_Comm_rank(MPI_COMM_WORLD, &rank);"
   ]
  },
  {
   "cell_type": "markdown",
   "metadata": {},
   "source": [
    "Se inicializa el entorno MPI con `MPI_Init`. Se obtienen los identificadores y el número de procesos."
   ]
  },
  {
   "cell_type": "code",
   "execution_count": null,
   "metadata": {},
   "outputs": [],
   "source": [
    "    double time_start = MPI_Wtime(); // Tiempo inicial\n",
    "\n",
    "    int nlocal = n / size; // Tamaño base para cada proceso\n",
    "    int rest = n % size;   // Elementos sobrantes a distribuir\n",
    "    if (rest && (rank < rest))  \n",
    "        nlocal++;"
   ]
  },
  {
   "cell_type": "markdown",
   "metadata": {},
   "source": [
    "Se comienza a medir el tiempo para calcular el rendimieno de la aplicación.\n",
    "\n",
    "Se divide el trabajo (tamaño del vector) equitativamente entre los procesos (`nlocal`).\n",
    "Si hay elementos sobrantes (`rest`), se asignan a los procesos con identificadores más bajos (`rank < rest`)."
   ]
  },
  {
   "cell_type": "code",
   "execution_count": null,
   "metadata": {},
   "outputs": [],
   "source": [
    "    int start = rank * nlocal; // Índice inicial del segmento\n",
    "    if (rest && (rank >= rest)) \n",
    "        start += rest;\n",
    "    int end = start + nlocal; // Índice final (no inclusivo) del segmento"
   ]
  },
  {
   "cell_type": "markdown",
   "metadata": {},
   "source": [
    "Para  distribuir los datos de manera eficiente entre los procesos, y garantizar que el trabajo esté balanceado; se calcula el rango de índices (`start` a `end`) que cada proceso manejará en el vector global."
   ]
  },
  {
   "cell_type": "code",
   "execution_count": null,
   "metadata": {},
   "outputs": [],
   "source": [
    "    std::vector<double> x(nlocal, 1.0);\n",
    "    std::vector<double> y(nlocal, -1.0);\n",
    "    double alpha = 2.5;"
   ]
  },
  {
   "cell_type": "markdown",
   "metadata": {},
   "source": [
    "Se crean vectores locales `x` y `y` para cada proceso, llenándolos con valores iniciales (`1.0` para `x` y `-1.0` para `y`).\n",
    "\n",
    "Se define el escalar $\\alpha$ usado en la operación AXPY."
   ]
  },
  {
   "cell_type": "code",
   "execution_count": null,
   "metadata": {},
   "outputs": [],
   "source": [
    "    for (int i = 0; i < nlocal; ++i) {\n",
    "        y[i] += alpha * x[i];\n",
    "    }"
   ]
  },
  {
   "cell_type": "markdown",
   "metadata": {},
   "source": [
    "Cada proceso realiza la operación AXPY ($y = y+ \\alpha \\cdot x$) en su porción del vector."
   ]
  },
  {
   "cell_type": "code",
   "execution_count": null,
   "metadata": {},
   "outputs": [],
   "source": [
    "    //std::cout << \"Proceso \" << rank << \". Vector y local: y = [\";\n",
    "    //for (int i = 0; i < nlocal; ++i) {\n",
    "        //std::cout << y[i];\n",
    "        //if (i < nlocal - 1) std::cout << \", \"; // Evitar la coma final\n",
    "    //}\n",
    "    //std::cout << \"]\" << std::endl;\n",
    "\n",
    "    double time_end = MPI_Wtime(); // Tiempo final"
   ]
  },
  {
   "cell_type": "markdown",
   "metadata": {},
   "source": [
    "Se imprimen los resultados locales desde cada proceso. Y, se establece el tiempo final."
   ]
  },
  {
   "cell_type": "code",
   "execution_count": null,
   "metadata": {},
   "outputs": [],
   "source": [
    "    if (rank == 0) {\n",
    "        std::cout << \"Tiempo total (s): \" << time_end - time_start << std::endl;\n",
    "    }"
   ]
  },
  {
   "cell_type": "markdown",
   "metadata": {},
   "source": [
    "El proceso maestro (`rank == 0`) imprime el tiempo total de ejecución."
   ]
  },
  {
   "cell_type": "code",
   "execution_count": null,
   "metadata": {},
   "outputs": [],
   "source": [
    "    MPI_Finalize();\n",
    "    return 0;\n",
    "}"
   ]
  },
  {
   "cell_type": "markdown",
   "metadata": {},
   "source": [
    "Finalmente, se libera los recursos asignados al entorno MPI con `MPI_Finalize`."
   ]
  },
  {
   "cell_type": "markdown",
   "metadata": {},
   "source": [
    "### Cálculo de Memoria Requerida por Proceso"
   ]
  },
  {
   "cell_type": "markdown",
   "metadata": {},
   "source": [
    "La cantidad de elementos por proceso corresponde a \n",
    "\\begin{equation}\n",
    "n_{\\text{local}} = \\frac{n}{p}\\approx \\frac{5 \\times 10^8}{p}\n",
    "\\end{equation}\n",
    "\n",
    "Si hay elementos sobrantes, algunos procesos tendrán $ n_{\\text{local}} + 1 $, pero se ignorará este caso ya que no modifica gravemente el resultado.\n",
    "\n",
    "\n",
    "Luego, cada proceso tiene dos vectores locales, por lo tanto:\n",
    "\\begin{equation}\n",
    "\\text{Memoria total por proceso} = 2 \\times n_{\\text{local}} \\times \\text{tamaño de un elemento}\n",
    "\\end{equation}\n",
    "\n",
    "\\begin{equation}\n",
    "\\Rightarrow \\text{Memoria total por proceso} = 2 \\times \\frac{5 \\times 10^8}{p} \\times 8 \\, \\text{bytes}\n",
    "\\end{equation}\n",
    "\n",
    "Para ejemplificar, si solo se tiene un proceso, la memoria requerida por proceso es de 8GB, y si se tiene ocho procesos, es de 2GB."
   ]
  },
  {
   "cell_type": "markdown",
   "metadata": {},
   "source": [
    "Por último, se presenta el gráfico de escalabilidad del código utilizando hasta 8 procesos:"
   ]
  },
  {
   "cell_type": "markdown",
   "metadata": {},
   "source": [
    "<div style=\"text-align: center;\">\n",
    "  <img src=\"axpy.png\" style=\"width: 80%; margin: auto;\">\n",
    "</div>"
   ]
  },
  {
   "cell_type": "code",
   "execution_count": null,
   "metadata": {},
   "outputs": [],
   "source": []
  }
 ],
 "metadata": {
  "anaconda-cloud": {},
  "kernelspec": {
   "display_name": "Python 3 (ipykernel)",
   "language": "python",
   "name": "python3"
  },
  "language_info": {
   "codemirror_mode": {
    "name": "ipython",
    "version": 3
   },
   "file_extension": ".py",
   "mimetype": "text/x-python",
   "name": "python",
   "nbconvert_exporter": "python",
   "pygments_lexer": "ipython3",
   "version": "3.10.12"
  }
 },
 "nbformat": 4,
 "nbformat_minor": 4
}
